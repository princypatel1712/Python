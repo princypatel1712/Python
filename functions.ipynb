{
 "cells": [
  {
   "cell_type": "code",
   "execution_count": 1,
   "id": "a0d86aef-33e9-4e63-b38a-5b9aa216fe58",
   "metadata": {},
   "outputs": [
    {
     "name": "stdout",
     "output_type": "stream",
     "text": [
      "abc xyz\n",
      "5\n"
     ]
    }
   ],
   "source": [
    "def generate_full_name ():\n",
    "    first_name = 'abc'\n",
    "    last_name = 'xyz'\n",
    "    space = ' '\n",
    "    full_name = first_name + space + last_name\n",
    "    print(full_name)\n",
    "generate_full_name () # calling a function\n",
    "\n",
    "def add_two_numbers ():\n",
    "    num_one = 2\n",
    "    num_two = 3\n",
    "    total = num_one + num_two\n",
    "    print(total)\n",
    "add_two_numbers()"
   ]
  },
  {
   "cell_type": "markdown",
   "id": "3dff6204-9d61-490a-ac59-0b6f5244f7ed",
   "metadata": {},
   "source": [
    "# Function with Parameters\n"
   ]
  },
  {
   "cell_type": "code",
   "execution_count": 2,
   "id": "382ddb27-f9b3-4ed3-a6c6-dd05bfba4262",
   "metadata": {},
   "outputs": [
    {
     "name": "stdout",
     "output_type": "stream",
     "text": [
      "abc, welcome to Python for Everyone!\n",
      "100\n",
      "4\n",
      "314.0\n",
      "55\n",
      "None\n",
      "5050\n",
      "None\n"
     ]
    }
   ],
   "source": [
    "# syntax\n",
    "#def function_name(parameter):\n",
    "def greetings (name):\n",
    "    message = name + ', welcome to Python for Everyone!'\n",
    "    return message\n",
    "print(greetings('abc'))\n",
    "\n",
    "\n",
    "def add_ten(num):\n",
    "    ten = 10\n",
    "    return num + ten\n",
    "print(add_ten(90))\n",
    "\n",
    "\n",
    "def square_number(x):\n",
    "    return x * x\n",
    "print(square_number(2))\n",
    "\n",
    "\n",
    "def area_of_circle (r):\n",
    "    PI = 3.14\n",
    "    area = PI * r ** 2\n",
    "    return area\n",
    "print(area_of_circle(10))\n",
    "\n",
    "def sum_of_numbers(n):\n",
    "    total = 0\n",
    "    for i in range(n+1):\n",
    "        total+=i\n",
    "    print(total)\n",
    "print(sum_of_numbers(10)) # 55\n",
    "print(sum_of_numbers(100)) # 5050"
   ]
  },
  {
   "cell_type": "code",
   "execution_count": 3,
   "id": "9428dc9b-48a2-4e21-83a1-64917e29378e",
   "metadata": {},
   "outputs": [
    {
     "name": "stdout",
     "output_type": "stream",
     "text": [
      "Sum of two numbers:  10\n",
      "Age:  202\n"
     ]
    }
   ],
   "source": [
    "def sum_two_numbers (num_one, num_two):\n",
    "    sum = num_one + num_two\n",
    "    return sum\n",
    "print('Sum of two numbers: ', sum_two_numbers(1, 9))\n",
    "\n",
    "\n",
    "def calculate_age (current_year, birth_year):\n",
    "    age = current_year - birth_year\n",
    "    return age;\n",
    "print('Age: ', calculate_age(2021, 1819))\n",
    "\n"
   ]
  },
  {
   "cell_type": "code",
   "execution_count": 4,
   "id": "f6c2b4d9-00f5-4f69-9e0e-4bcee5dd89ab",
   "metadata": {},
   "outputs": [
    {
     "name": "stdout",
     "output_type": "stream",
     "text": [
      "abc xyz\n",
      "None\n",
      "5\n",
      "None\n"
     ]
    }
   ],
   "source": [
    "def print_fullname(firstname, lastname):\n",
    "    space = ' '\n",
    "    full_name = firstname  + space + lastname\n",
    "    print(full_name)\n",
    "print(print_fullname(firstname = 'abc', lastname = 'xyz'))\n",
    "\n",
    "def add_two_numbers (num1, num2):\n",
    "    total = num1 + num2\n",
    "    print(total)\n",
    "print(add_two_numbers(num2 = 3, num1 = 2)) # Order does not matter"
   ]
  },
  {
   "cell_type": "code",
   "execution_count": 5,
   "id": "b5604daa-a835-4cad-b17f-818e0d4048cf",
   "metadata": {},
   "outputs": [
    {
     "data": {
      "text/plain": [
       "'abc xyz'"
      ]
     },
     "execution_count": 5,
     "metadata": {},
     "output_type": "execute_result"
    }
   ],
   "source": [
    "#Returning a string: \n",
    "def print_name(firstname):\n",
    "    return firstname\n",
    "print_name('abc') \n",
    "\n",
    "def print_full_name(firstname, lastname):\n",
    "    space = ' '\n",
    "    full_name = firstname  + space + lastname\n",
    "    return full_name\n",
    "print_full_name(firstname='abc', lastname='xyz')"
   ]
  },
  {
   "cell_type": "code",
   "execution_count": 6,
   "id": "6d8086b3-34f7-45fc-acea-4ea503716c4c",
   "metadata": {},
   "outputs": [
    {
     "name": "stdout",
     "output_type": "stream",
     "text": [
      "5\n",
      "Age:  200\n"
     ]
    }
   ],
   "source": [
    "#Returning a number: \n",
    "def add_two_numbers (num1, num2):\n",
    "    total = num1 + num2\n",
    "    return total\n",
    "print(add_two_numbers(2, 3))\n",
    "\n",
    "def calculate_age (current_year, birth_year):\n",
    "    age = current_year - birth_year\n",
    "    return age;\n",
    "print('Age: ', calculate_age(2019, 1819))"
   ]
  },
  {
   "cell_type": "code",
   "execution_count": 7,
   "id": "e198ab9b-86ae-489f-858a-f948e7e6c3c8",
   "metadata": {},
   "outputs": [
    {
     "name": "stdout",
     "output_type": "stream",
     "text": [
      "even\n",
      "True\n",
      "False\n"
     ]
    }
   ],
   "source": [
    "#Returning a boolean: \n",
    "\n",
    "def is_even (n):\n",
    "    if n % 2 == 0:\n",
    "        print('even')\n",
    "        return True    # return stops further execution of the function, similar to break \n",
    "    return False\n",
    "print(is_even(10)) # True\n",
    "print(is_even(7)) # False"
   ]
  },
  {
   "cell_type": "code",
   "execution_count": 8,
   "id": "92263755-1e67-4673-800f-74fe9a8835f2",
   "metadata": {},
   "outputs": [
    {
     "name": "stdout",
     "output_type": "stream",
     "text": [
      "[0, 2, 4, 6, 8, 10]\n"
     ]
    }
   ],
   "source": [
    "#Returning a list:\n",
    "def find_even_numbers(n):\n",
    "    evens = []\n",
    "    for i in range(n + 1):\n",
    "        if i % 2 == 0:\n",
    "            evens.append(i)\n",
    "    return evens\n",
    "print(find_even_numbers(10))"
   ]
  },
  {
   "cell_type": "markdown",
   "id": "ab14611e-457f-476e-85e6-5930b7c4e649",
   "metadata": {},
   "source": [
    "# Function with Default Parameters\n",
    "\n"
   ]
  },
  {
   "cell_type": "code",
   "execution_count": 9,
   "id": "d3639bbf-a592-4294-8732-9a226df66d1d",
   "metadata": {},
   "outputs": [
    {
     "name": "stdout",
     "output_type": "stream",
     "text": [
      "Peter, welcome to Python for Everyone!\n",
      "abc, welcome to Python for Everyone!\n",
      "abc xyz\n",
      "David Smith\n",
      "Age:  200\n"
     ]
    }
   ],
   "source": [
    "#syntax\n",
    "#Declaring a function\n",
    "#def function_name(param = value):\n",
    " #   codes\n",
    "#    codes\n",
    "#Calling function\n",
    "#function_name()\n",
    "#function_name(arg)\n",
    "\n",
    "def greetings (name = 'Peter'):\n",
    "    message = name + ', welcome to Python for Everyone!'\n",
    "    return message\n",
    "print(greetings())\n",
    "print(greetings('abc'))\n",
    "\n",
    "def generate_full_name (first_name = 'abc', last_name = 'xyz'):\n",
    "    space = ' '\n",
    "    full_name = first_name + space + last_name\n",
    "    return full_name\n",
    "\n",
    "print(generate_full_name())\n",
    "print(generate_full_name('David','Smith'))\n",
    "\n",
    "def calculate_age (birth_year,current_year = 2021):\n",
    "    age = current_year - birth_year\n",
    "    return age;\n",
    "print('Age: ', calculate_age(1821))\n"
   ]
  },
  {
   "cell_type": "code",
   "execution_count": 10,
   "id": "8bbd5f10-42c2-4c83-8276-70be2d371e64",
   "metadata": {},
   "outputs": [
    {
     "name": "stdout",
     "output_type": "stream",
     "text": [
      "10\n"
     ]
    }
   ],
   "source": [
    "#Arbitrary Number of Arguments\n",
    "# syntax\n",
    "# Declaring a function\n",
    "#def function_name(*args):\n",
    "#   codes\n",
    "#    codes\n",
    "# Calling function\n",
    "#function_name(param1, param2, param3,..)\n",
    "\n",
    "\n",
    "\n",
    "def sum_all_nums(*nums):\n",
    "    total = 0\n",
    "    for num in nums:\n",
    "        total += num     # same as total = total + num \n",
    "    return total\n",
    "print(sum_all_nums(2, 3, 5)) "
   ]
  },
  {
   "cell_type": "code",
   "execution_count": 11,
   "id": "df775e09-3e5e-4517-942d-1cfb78ca730c",
   "metadata": {},
   "outputs": [
    {
     "name": "stdout",
     "output_type": "stream",
     "text": [
      "81\n"
     ]
    }
   ],
   "source": [
    "\n",
    "def square_number (n):\n",
    "    return n * n\n",
    "def do_something(f, x):\n",
    "    return f(x)\n",
    "print(do_something(square_number, 9)) "
   ]
  },
  {
   "cell_type": "markdown",
   "id": "d89cfebd-b4db-40b0-8a20-862eac49c457",
   "metadata": {},
   "source": [
    "# Lambda Function\n"
   ]
  },
  {
   "cell_type": "code",
   "execution_count": 12,
   "id": "ae11bf61-cbc5-48ab-8ec2-993b6a132d09",
   "metadata": {},
   "outputs": [
    {
     "name": "stdout",
     "output_type": "stream",
     "text": [
      "5\n",
      "5\n",
      "9\n",
      "27\n",
      "22\n"
     ]
    }
   ],
   "source": [
    "# syntax\n",
    "#x = lambda param1, param2, param3: param1 + param2 + param2\n",
    "#print(x(arg1, arg2, arg3))\n",
    "\n",
    "\n",
    "# Named function\n",
    "def add_two_nums(a, b):\n",
    "    return a + b\n",
    "\n",
    "print(add_two_nums(2, 3))    \n",
    "\n",
    "\n",
    "\n",
    "add_two_nums = lambda a, b: a + b\n",
    "print(add_two_nums(2,3))\n",
    "\n",
    "\n",
    "# Self invoking lambda function\n",
    "(lambda a, b: a + b)(2,3) \n",
    "\n",
    "square = lambda x : x ** 2\n",
    "print(square(3)) \n",
    "\n",
    "\n",
    "cube = lambda x : x ** 3\n",
    "print(cube(3))    \n",
    "\n",
    "# Multiple variables\n",
    "multiple_variable = lambda a, b, c: a ** 2 - 3 * b + 4 * c\n",
    "print(multiple_variable(5, 5, 3)) \n"
   ]
  },
  {
   "cell_type": "code",
   "execution_count": 13,
   "id": "6fc70bd0-55cc-44b5-8079-43bca28004ac",
   "metadata": {},
   "outputs": [
    {
     "name": "stdout",
     "output_type": "stream",
     "text": [
      "8\n",
      "32\n"
     ]
    }
   ],
   "source": [
    "#Lambda Function Inside Another Function\n",
    "\n",
    "def power(x):\n",
    "    return lambda n : x ** n\n",
    "\n",
    "cube = power(2)(3)   \n",
    "print(cube)                # 8\n",
    "two_power_of_five = power(2)(5) \n",
    "print(two_power_of_five)  # 32"
   ]
  },
  {
   "cell_type": "markdown",
   "id": "c498da29-bb5c-4388-95a0-05f9c4c821c9",
   "metadata": {},
   "source": [
    "# List Comprehension\n"
   ]
  },
  {
   "cell_type": "code",
   "execution_count": 14,
   "id": "3fcc4395-36d0-4e41-a99d-b2ce1f701c21",
   "metadata": {},
   "outputs": [
    {
     "name": "stdout",
     "output_type": "stream",
     "text": [
      "<class 'list'>\n",
      "['P', 'y', 't', 'h', 'o', 'n']\n",
      "<class 'list'>\n",
      "['P', 'y', 't', 'h', 'o', 'n']\n"
     ]
    }
   ],
   "source": [
    "# syntax\n",
    "#[i for i in iterable if expression]\n",
    "\n",
    "\n",
    "language = 'Python'\n",
    "lst = list(language) # changing the string to list\n",
    "print(type(lst))     # list\n",
    "print(lst)           # ['P', 'y', 't', 'h', 'o', 'n']\n",
    "\n",
    "# Second way: \n",
    "lst = [i for i in language]\n",
    "print(type(lst)) # list\n",
    "print(lst)       # ['P', 'y', 't', 'h', 'o', 'n']\n"
   ]
  },
  {
   "cell_type": "code",
   "execution_count": 15,
   "id": "28765ad6-4159-4bc1-ae02-fa6e3cdd1b1f",
   "metadata": {},
   "outputs": [
    {
     "name": "stdout",
     "output_type": "stream",
     "text": [
      "[0, 1, 2, 3, 4, 5, 6, 7, 8, 9, 10]\n",
      "[0, 1, 4, 9, 16, 25, 36, 49, 64, 81, 100]\n",
      "[(0, 0), (1, 1), (2, 4), (3, 9), (4, 16), (5, 25), (6, 36), (7, 49), (8, 64), (9, 81), (10, 100)]\n"
     ]
    }
   ],
   "source": [
    "# Generating numbers\n",
    "numbers = [i for i in range(11)]  \n",
    "print(numbers)                    # [0, 1, 2, 3, 4, 5, 6, 7, 8, 9, 10]\n",
    "\n",
    "#  mathematical operations during iteration\n",
    "squares = [i * i for i in range(11)]\n",
    "print(squares)                    # [0, 1, 4, 9, 16, 25, 36, 49, 64, 81, 100]\n",
    "\n",
    "#  make a list of tuples\n",
    "numbers = [(i, i * i) for i in range(11)]\n",
    "print(numbers)                      # [(0, 0), (1, 1), (2, 4), (3, 9), (4, 16), (5, 25)]\n"
   ]
  },
  {
   "cell_type": "code",
   "execution_count": 16,
   "id": "ac73a982-50c6-46bf-aa92-3bccfb50a3ef",
   "metadata": {},
   "outputs": [
    {
     "name": "stdout",
     "output_type": "stream",
     "text": [
      "[0, 2, 4, 6, 8, 10, 12, 14, 16, 18, 20]\n",
      "[1, 3, 5, 7, 9, 11, 13, 15, 17, 19]\n",
      "[4, 6, 8, 10]\n",
      "[1, 2, 3, 4, 5, 6, 7, 8, 9]\n"
     ]
    }
   ],
   "source": [
    "# Generating even numbers\n",
    "even_numbers = [i for i in range(21) if i % 2 == 0]  \n",
    "print(even_numbers)                   \n",
    "# Generating odd numbers\n",
    "odd_numbers = [i for i in range(21) if i % 2 != 0] \n",
    "print(odd_numbers)               \n",
    "# Filter numbers: let's filter out positive even numbers from the list below\n",
    "numbers = [-8, -7, -3, -1, 0, 1, 3, 4, 5, 7, 6, 8, 10]\n",
    "positive_even_numbers = [i for i in numbers if i % 2 == 0 and i > 0]\n",
    "print(positive_even_numbers)                   \n",
    "\n",
    "\n",
    "list_of_lists = [[1, 2, 3], [4, 5, 6], [7, 8, 9]]\n",
    "flattened_list = [ number for row in list_of_lists for number in row]\n",
    "print(flattened_list)    # [1, 2, 3, 4, 5, 6, 7, 8, 9]"
   ]
  }
 ],
 "metadata": {
  "kernelspec": {
   "display_name": "Python 3 (ipykernel)",
   "language": "python",
   "name": "python3"
  },
  "language_info": {
   "codemirror_mode": {
    "name": "ipython",
    "version": 3
   },
   "file_extension": ".py",
   "mimetype": "text/x-python",
   "name": "python",
   "nbconvert_exporter": "python",
   "pygments_lexer": "ipython3",
   "version": "3.12.4"
  }
 },
 "nbformat": 4,
 "nbformat_minor": 5
}
